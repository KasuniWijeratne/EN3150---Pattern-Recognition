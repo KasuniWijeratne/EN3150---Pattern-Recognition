{
 "cells": [
  {
   "cell_type": "code",
   "execution_count": 3,
   "metadata": {},
   "outputs": [
    {
     "name": "stdout",
     "output_type": "stream",
     "text": [
      "Estimated probability: 0.38\n",
      "Hours of study required for 50% chance: 50.00\n"
     ]
    }
   ],
   "source": [
    "import numpy as np\n",
    "\n",
    "w0 = -6\n",
    "w1 = 0.05\n",
    "w2 = 1\n",
    " # (a)\n",
    "x1 = 40\n",
    "x2 = 3.5\n",
    "z = w0 + w1 * x1 + w2 * x2\n",
    "probability_a = 1 / (1 + np.exp(-z))\n",
    "print(f\"Estimated probability: {probability_a:.2f}\")\n",
    "\n",
    "# (b)\n",
    "# 0.5 = 1 / (1 + e^(-(w0 + w1 * x1 + w2 * x2)))\n",
    "# Rearrange and solve for x1 (hours of study)\n",
    "x1_required = (-np.log(1 / 0.5 - 1) - (w0 + w2 * x2)) / w1\n",
    "print(f\"Hours of study required for 50% chance: {x1_required:.2f}\")\n"
   ]
  },
  {
   "cell_type": "code",
   "execution_count": null,
   "metadata": {},
   "outputs": [],
   "source": []
  }
 ],
 "metadata": {
  "kernelspec": {
   "display_name": "cv",
   "language": "python",
   "name": "python3"
  },
  "language_info": {
   "codemirror_mode": {
    "name": "ipython",
    "version": 3
   },
   "file_extension": ".py",
   "mimetype": "text/x-python",
   "name": "python",
   "nbconvert_exporter": "python",
   "pygments_lexer": "ipython3",
   "version": "3.11.4"
  },
  "orig_nbformat": 4
 },
 "nbformat": 4,
 "nbformat_minor": 2
}
